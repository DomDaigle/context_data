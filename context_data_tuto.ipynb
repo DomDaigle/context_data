{
 "cells": [
  {
   "cell_type": "code",
   "execution_count": 2,
   "metadata": {},
   "outputs": [],
   "source": [
    "import openai"
   ]
  },
  {
   "cell_type": "code",
   "execution_count": 3,
   "metadata": {},
   "outputs": [
    {
     "name": "stdout",
     "output_type": "stream",
     "text": [
      "Defaulting to user installation because normal site-packages is not writeable\n",
      "Requirement already satisfied: gpt-index in c:\\users\\dominic\\appdata\\roaming\\python\\python311\\site-packages (0.4.31)\n",
      "Requirement already satisfied: dataclasses-json in c:\\users\\dominic\\appdata\\roaming\\python\\python311\\site-packages (from gpt-index) (0.5.7)\n",
      "Requirement already satisfied: langchain in c:\\users\\dominic\\appdata\\roaming\\python\\python311\\site-packages (from gpt-index) (0.0.115)\n",
      "Requirement already satisfied: numpy in c:\\users\\dominic\\appdata\\roaming\\python\\python311\\site-packages (from gpt-index) (1.24.2)\n",
      "Requirement already satisfied: tenacity<9.0.0,>=8.2.0 in c:\\users\\dominic\\appdata\\roaming\\python\\python311\\site-packages (from gpt-index) (8.2.2)\n",
      "Requirement already satisfied: openai>=0.26.4 in c:\\users\\dominic\\appdata\\roaming\\python\\python311\\site-packages (from gpt-index) (0.27.2)\n",
      "Requirement already satisfied: pandas in c:\\users\\dominic\\appdata\\roaming\\python\\python311\\site-packages (from gpt-index) (1.5.3)\n",
      "Requirement already satisfied: tiktoken in c:\\users\\dominic\\appdata\\roaming\\python\\python311\\site-packages (from gpt-index) (0.3.2)\n",
      "Requirement already satisfied: requests>=2.20 in c:\\users\\dominic\\appdata\\roaming\\python\\python311\\site-packages (from openai>=0.26.4->gpt-index) (2.28.2)\n",
      "Requirement already satisfied: tqdm in c:\\users\\dominic\\appdata\\roaming\\python\\python311\\site-packages (from openai>=0.26.4->gpt-index) (4.65.0)\n",
      "Requirement already satisfied: aiohttp in c:\\users\\dominic\\appdata\\roaming\\python\\python311\\site-packages (from openai>=0.26.4->gpt-index) (3.8.4)\n",
      "Requirement already satisfied: marshmallow<4.0.0,>=3.3.0 in c:\\users\\dominic\\appdata\\roaming\\python\\python311\\site-packages (from dataclasses-json->gpt-index) (3.19.0)\n",
      "Requirement already satisfied: marshmallow-enum<2.0.0,>=1.5.1 in c:\\users\\dominic\\appdata\\roaming\\python\\python311\\site-packages (from dataclasses-json->gpt-index) (1.5.1)\n",
      "Requirement already satisfied: typing-inspect>=0.4.0 in c:\\users\\dominic\\appdata\\roaming\\python\\python311\\site-packages (from dataclasses-json->gpt-index) (0.8.0)\n",
      "Requirement already satisfied: PyYAML>=5.4.1 in c:\\users\\dominic\\appdata\\roaming\\python\\python311\\site-packages (from langchain->gpt-index) (6.0)\n",
      "Requirement already satisfied: SQLAlchemy<2,>=1 in c:\\users\\dominic\\appdata\\roaming\\python\\python311\\site-packages (from langchain->gpt-index) (1.4.47)\n",
      "Requirement already satisfied: pydantic<2,>=1 in c:\\users\\dominic\\appdata\\roaming\\python\\python311\\site-packages (from langchain->gpt-index) (1.10.6)\n",
      "Requirement already satisfied: python-dateutil>=2.8.1 in c:\\users\\dominic\\appdata\\roaming\\python\\python311\\site-packages (from pandas->gpt-index) (2.8.2)\n",
      "Requirement already satisfied: pytz>=2020.1 in c:\\users\\dominic\\appdata\\roaming\\python\\python311\\site-packages (from pandas->gpt-index) (2022.7.1)\n",
      "Requirement already satisfied: regex>=2022.1.18 in c:\\users\\dominic\\appdata\\roaming\\python\\python311\\site-packages (from tiktoken->gpt-index) (2022.10.31)\n",
      "Requirement already satisfied: attrs>=17.3.0 in c:\\users\\dominic\\appdata\\roaming\\python\\python311\\site-packages (from aiohttp->openai>=0.26.4->gpt-index) (22.2.0)\n",
      "Requirement already satisfied: charset-normalizer<4.0,>=2.0 in c:\\users\\dominic\\appdata\\roaming\\python\\python311\\site-packages (from aiohttp->openai>=0.26.4->gpt-index) (3.1.0)\n",
      "Requirement already satisfied: multidict<7.0,>=4.5 in c:\\users\\dominic\\appdata\\roaming\\python\\python311\\site-packages (from aiohttp->openai>=0.26.4->gpt-index) (6.0.4)\n",
      "Requirement already satisfied: async-timeout<5.0,>=4.0.0a3 in c:\\users\\dominic\\appdata\\roaming\\python\\python311\\site-packages (from aiohttp->openai>=0.26.4->gpt-index) (4.0.2)\n",
      "Requirement already satisfied: yarl<2.0,>=1.0 in c:\\users\\dominic\\appdata\\roaming\\python\\python311\\site-packages (from aiohttp->openai>=0.26.4->gpt-index) (1.8.2)\n",
      "Requirement already satisfied: frozenlist>=1.1.1 in c:\\users\\dominic\\appdata\\roaming\\python\\python311\\site-packages (from aiohttp->openai>=0.26.4->gpt-index) (1.3.3)\n",
      "Requirement already satisfied: aiosignal>=1.1.2 in c:\\users\\dominic\\appdata\\roaming\\python\\python311\\site-packages (from aiohttp->openai>=0.26.4->gpt-index) (1.3.1)\n",
      "Requirement already satisfied: packaging>=17.0 in c:\\users\\dominic\\appdata\\roaming\\python\\python311\\site-packages (from marshmallow<4.0.0,>=3.3.0->dataclasses-json->gpt-index) (23.0)\n",
      "Requirement already satisfied: typing-extensions>=4.2.0 in c:\\users\\dominic\\appdata\\roaming\\python\\python311\\site-packages (from pydantic<2,>=1->langchain->gpt-index) (4.5.0)\n",
      "Requirement already satisfied: six>=1.5 in c:\\users\\dominic\\appdata\\roaming\\python\\python311\\site-packages (from python-dateutil>=2.8.1->pandas->gpt-index) (1.16.0)\n",
      "Requirement already satisfied: idna<4,>=2.5 in c:\\users\\dominic\\appdata\\roaming\\python\\python311\\site-packages (from requests>=2.20->openai>=0.26.4->gpt-index) (3.4)\n",
      "Requirement already satisfied: urllib3<1.27,>=1.21.1 in c:\\users\\dominic\\appdata\\roaming\\python\\python311\\site-packages (from requests>=2.20->openai>=0.26.4->gpt-index) (1.26.15)\n",
      "Requirement already satisfied: certifi>=2017.4.17 in c:\\users\\dominic\\appdata\\roaming\\python\\python311\\site-packages (from requests>=2.20->openai>=0.26.4->gpt-index) (2022.12.7)\n",
      "Requirement already satisfied: greenlet!=0.4.17 in c:\\users\\dominic\\appdata\\roaming\\python\\python311\\site-packages (from SQLAlchemy<2,>=1->langchain->gpt-index) (2.0.2)\n",
      "Requirement already satisfied: mypy-extensions>=0.3.0 in c:\\users\\dominic\\appdata\\roaming\\python\\python311\\site-packages (from typing-inspect>=0.4.0->dataclasses-json->gpt-index) (1.0.0)\n",
      "Requirement already satisfied: colorama in c:\\users\\dominic\\appdata\\roaming\\python\\python311\\site-packages (from tqdm->openai>=0.26.4->gpt-index) (0.4.6)\n",
      "Defaulting to user installation because normal site-packages is not writeable\n",
      "Requirement already satisfied: langchain in c:\\users\\dominic\\appdata\\roaming\\python\\python311\\site-packages (0.0.115)\n",
      "Requirement already satisfied: PyYAML>=5.4.1 in c:\\users\\dominic\\appdata\\roaming\\python\\python311\\site-packages (from langchain) (6.0)\n",
      "Requirement already satisfied: SQLAlchemy<2,>=1 in c:\\users\\dominic\\appdata\\roaming\\python\\python311\\site-packages (from langchain) (1.4.47)\n",
      "Requirement already satisfied: aiohttp<4.0.0,>=3.8.3 in c:\\users\\dominic\\appdata\\roaming\\python\\python311\\site-packages (from langchain) (3.8.4)\n",
      "Requirement already satisfied: dataclasses-json<0.6.0,>=0.5.7 in c:\\users\\dominic\\appdata\\roaming\\python\\python311\\site-packages (from langchain) (0.5.7)\n",
      "Requirement already satisfied: numpy<2,>=1 in c:\\users\\dominic\\appdata\\roaming\\python\\python311\\site-packages (from langchain) (1.24.2)\n",
      "Requirement already satisfied: pydantic<2,>=1 in c:\\users\\dominic\\appdata\\roaming\\python\\python311\\site-packages (from langchain) (1.10.6)\n",
      "Requirement already satisfied: requests<3,>=2 in c:\\users\\dominic\\appdata\\roaming\\python\\python311\\site-packages (from langchain) (2.28.2)\n",
      "Requirement already satisfied: tenacity<9.0.0,>=8.1.0 in c:\\users\\dominic\\appdata\\roaming\\python\\python311\\site-packages (from langchain) (8.2.2)\n",
      "Requirement already satisfied: attrs>=17.3.0 in c:\\users\\dominic\\appdata\\roaming\\python\\python311\\site-packages (from aiohttp<4.0.0,>=3.8.3->langchain) (22.2.0)\n",
      "Requirement already satisfied: charset-normalizer<4.0,>=2.0 in c:\\users\\dominic\\appdata\\roaming\\python\\python311\\site-packages (from aiohttp<4.0.0,>=3.8.3->langchain) (3.1.0)\n",
      "Requirement already satisfied: multidict<7.0,>=4.5 in c:\\users\\dominic\\appdata\\roaming\\python\\python311\\site-packages (from aiohttp<4.0.0,>=3.8.3->langchain) (6.0.4)\n",
      "Requirement already satisfied: async-timeout<5.0,>=4.0.0a3 in c:\\users\\dominic\\appdata\\roaming\\python\\python311\\site-packages (from aiohttp<4.0.0,>=3.8.3->langchain) (4.0.2)\n",
      "Requirement already satisfied: yarl<2.0,>=1.0 in c:\\users\\dominic\\appdata\\roaming\\python\\python311\\site-packages (from aiohttp<4.0.0,>=3.8.3->langchain) (1.8.2)\n",
      "Requirement already satisfied: frozenlist>=1.1.1 in c:\\users\\dominic\\appdata\\roaming\\python\\python311\\site-packages (from aiohttp<4.0.0,>=3.8.3->langchain) (1.3.3)\n",
      "Requirement already satisfied: aiosignal>=1.1.2 in c:\\users\\dominic\\appdata\\roaming\\python\\python311\\site-packages (from aiohttp<4.0.0,>=3.8.3->langchain) (1.3.1)\n",
      "Requirement already satisfied: marshmallow<4.0.0,>=3.3.0 in c:\\users\\dominic\\appdata\\roaming\\python\\python311\\site-packages (from dataclasses-json<0.6.0,>=0.5.7->langchain) (3.19.0)\n",
      "Requirement already satisfied: marshmallow-enum<2.0.0,>=1.5.1 in c:\\users\\dominic\\appdata\\roaming\\python\\python311\\site-packages (from dataclasses-json<0.6.0,>=0.5.7->langchain) (1.5.1)\n",
      "Requirement already satisfied: typing-inspect>=0.4.0 in c:\\users\\dominic\\appdata\\roaming\\python\\python311\\site-packages (from dataclasses-json<0.6.0,>=0.5.7->langchain) (0.8.0)\n",
      "Requirement already satisfied: typing-extensions>=4.2.0 in c:\\users\\dominic\\appdata\\roaming\\python\\python311\\site-packages (from pydantic<2,>=1->langchain) (4.5.0)\n",
      "Requirement already satisfied: idna<4,>=2.5 in c:\\users\\dominic\\appdata\\roaming\\python\\python311\\site-packages (from requests<3,>=2->langchain) (3.4)\n",
      "Requirement already satisfied: urllib3<1.27,>=1.21.1 in c:\\users\\dominic\\appdata\\roaming\\python\\python311\\site-packages (from requests<3,>=2->langchain) (1.26.15)\n",
      "Requirement already satisfied: certifi>=2017.4.17 in c:\\users\\dominic\\appdata\\roaming\\python\\python311\\site-packages (from requests<3,>=2->langchain) (2022.12.7)\n",
      "Requirement already satisfied: greenlet!=0.4.17 in c:\\users\\dominic\\appdata\\roaming\\python\\python311\\site-packages (from SQLAlchemy<2,>=1->langchain) (2.0.2)\n",
      "Requirement already satisfied: packaging>=17.0 in c:\\users\\dominic\\appdata\\roaming\\python\\python311\\site-packages (from marshmallow<4.0.0,>=3.3.0->dataclasses-json<0.6.0,>=0.5.7->langchain) (23.0)\n",
      "Requirement already satisfied: mypy-extensions>=0.3.0 in c:\\users\\dominic\\appdata\\roaming\\python\\python311\\site-packages (from typing-inspect>=0.4.0->dataclasses-json<0.6.0,>=0.5.7->langchain) (1.0.0)\n"
     ]
    }
   ],
   "source": [
    "!pip install gpt-index\n",
    "!pip install langchain"
   ]
  },
  {
   "cell_type": "code",
   "execution_count": 4,
   "metadata": {},
   "outputs": [],
   "source": [
    "from gpt_index import SimpleDirectoryReader, GPTListIndex, readers, GPTSimpleVectorIndex, LLMPredictor, PromptHelper\n",
    "from langchain import OpenAI\n",
    "import sys\n",
    "import os\n",
    "from IPython.display import Markdown, display\n",
    "\n",
    "def construct_index(directory_path):\n",
    "    # set maximum input size\n",
    "    max_input_size = 4096\n",
    "    # set number of output tokens\n",
    "    num_outputs = 2000\n",
    "    # set maximum chunk overlap\n",
    "    max_chunk_overlap = 20\n",
    "    # set chunk size limit\n",
    "    chunk_size_limit = 600 \n",
    "\n",
    "    # define LLM\n",
    "    llm_predictor = LLMPredictor(llm=OpenAI(temperature=0.5, model_name=\"text-davinci-003\", max_tokens=num_outputs))\n",
    "    prompt_helper = PromptHelper(max_input_size, num_outputs, max_chunk_overlap, chunk_size_limit=chunk_size_limit)\n",
    " \n",
    "    documents = SimpleDirectoryReader(directory_path).load_data()\n",
    "    \n",
    "    index = GPTSimpleVectorIndex(\n",
    "        documents, llm_predictor=llm_predictor, prompt_helper=prompt_helper\n",
    "    )\n",
    "\n",
    "    index.save_to_disk('index.json')\n",
    "\n",
    "    return index\n",
    "\n",
    "def ask_ai():\n",
    "    index = GPTSimpleVectorIndex.load_from_disk('index.json')\n",
    "    while True: \n",
    "        query = input(\"What do you want to ask? \")\n",
    "        response = index.query(query, response_mode=\"compact\")\n",
    "        display(Markdown(f\"Response: <b>{response.response}</b>\"))\n",
    "  "
   ]
  },
  {
   "cell_type": "code",
   "execution_count": 5,
   "metadata": {},
   "outputs": [],
   "source": [
    "os.environ[\"OPENAI_API_KEY\"] = input(\"Paste your OPENAI API key: \")"
   ]
  },
  {
   "cell_type": "code",
   "execution_count": 6,
   "metadata": {},
   "outputs": [
    {
     "name": "stderr",
     "output_type": "stream",
     "text": [
      "INFO:gpt_index.token_counter.token_counter:> [build_index_from_documents] Total LLM token usage: 0 tokens\n",
      "INFO:gpt_index.token_counter.token_counter:> [build_index_from_documents] Total embedding token usage: 3802 tokens\n"
     ]
    },
    {
     "data": {
      "text/plain": [
       "<gpt_index.indices.vector_store.vector_indices.GPTSimpleVectorIndex at 0x25ed4fb5390>"
      ]
     },
     "execution_count": 6,
     "metadata": {},
     "output_type": "execute_result"
    }
   ],
   "source": [
    "construct_index(\"context_data/data\")"
   ]
  },
  {
   "cell_type": "code",
   "execution_count": 7,
   "metadata": {},
   "outputs": [
    {
     "name": "stderr",
     "output_type": "stream",
     "text": [
      "INFO:gpt_index.token_counter.token_counter:> [query] Total LLM token usage: 622 tokens\n",
      "INFO:gpt_index.token_counter.token_counter:> [query] Total embedding token usage: 8 tokens\n"
     ]
    },
    {
     "data": {
      "text/markdown": [
       "Response: <b>\n",
       "People like cooking at home because it allows them to relax and unwind after a long day, it's healthier and more affordable than eating out, they can customize their meals to their family's preferences, and it's a great way to spend time with their kids in the kitchen.</b>"
      ],
      "text/plain": [
       "<IPython.core.display.Markdown object>"
      ]
     },
     "metadata": {},
     "output_type": "display_data"
    },
    {
     "name": "stderr",
     "output_type": "stream",
     "text": [
      "INFO:openai:error_code=None error_message=\"[''] is not valid under any of the given schemas - 'input'\" error_param=None error_type=invalid_request_error message='OpenAI API error received' stream_error=False\n",
      "INFO:openai:error_code=None error_message=\"[''] is not valid under any of the given schemas - 'input'\" error_param=None error_type=invalid_request_error message='OpenAI API error received' stream_error=False\n",
      "INFO:openai:error_code=None error_message=\"[''] is not valid under any of the given schemas - 'input'\" error_param=None error_type=invalid_request_error message='OpenAI API error received' stream_error=False\n",
      "INFO:openai:error_code=None error_message=\"[''] is not valid under any of the given schemas - 'input'\" error_param=None error_type=invalid_request_error message='OpenAI API error received' stream_error=False\n",
      "INFO:openai:error_code=None error_message=\"[''] is not valid under any of the given schemas - 'input'\" error_param=None error_type=invalid_request_error message='OpenAI API error received' stream_error=False\n",
      "INFO:openai:error_code=None error_message=\"[''] is not valid under any of the given schemas - 'input'\" error_param=None error_type=invalid_request_error message='OpenAI API error received' stream_error=False\n"
     ]
    },
    {
     "ename": "RetryError",
     "evalue": "RetryError[<Future at 0x25ee7df43d0 state=finished raised InvalidRequestError>]",
     "output_type": "error",
     "traceback": [
      "\u001b[1;31m---------------------------------------------------------------------------\u001b[0m",
      "\u001b[1;31mInvalidRequestError\u001b[0m                       Traceback (most recent call last)",
      "File \u001b[1;32m~\\AppData\\Roaming\\Python\\Python311\\site-packages\\tenacity\\__init__.py:382\u001b[0m, in \u001b[0;36mRetrying.__call__\u001b[1;34m(self, fn, *args, **kwargs)\u001b[0m\n\u001b[0;32m    381\u001b[0m \u001b[39mtry\u001b[39;00m:\n\u001b[1;32m--> 382\u001b[0m     result \u001b[39m=\u001b[39m fn(\u001b[39m*\u001b[39;49margs, \u001b[39m*\u001b[39;49m\u001b[39m*\u001b[39;49mkwargs)\n\u001b[0;32m    383\u001b[0m \u001b[39mexcept\u001b[39;00m \u001b[39mBaseException\u001b[39;00m:  \u001b[39m# noqa: B902\u001b[39;00m\n",
      "File \u001b[1;32m~\\AppData\\Roaming\\Python\\Python311\\site-packages\\gpt_index\\embeddings\\openai.py:106\u001b[0m, in \u001b[0;36mget_embedding\u001b[1;34m(text, engine)\u001b[0m\n\u001b[0;32m    105\u001b[0m text \u001b[39m=\u001b[39m text\u001b[39m.\u001b[39mreplace(\u001b[39m\"\u001b[39m\u001b[39m\\n\u001b[39;00m\u001b[39m\"\u001b[39m, \u001b[39m\"\u001b[39m\u001b[39m \u001b[39m\u001b[39m\"\u001b[39m)\n\u001b[1;32m--> 106\u001b[0m \u001b[39mreturn\u001b[39;00m openai\u001b[39m.\u001b[39;49mEmbedding\u001b[39m.\u001b[39;49mcreate(\u001b[39minput\u001b[39;49m\u001b[39m=\u001b[39;49m[text], engine\u001b[39m=\u001b[39;49mengine)[\u001b[39m\"\u001b[39m\u001b[39mdata\u001b[39m\u001b[39m\"\u001b[39m][\u001b[39m0\u001b[39m][\u001b[39m\"\u001b[39m\u001b[39membedding\u001b[39m\u001b[39m\"\u001b[39m]\n",
      "File \u001b[1;32m~\\AppData\\Roaming\\Python\\Python311\\site-packages\\openai\\api_resources\\embedding.py:33\u001b[0m, in \u001b[0;36mEmbedding.create\u001b[1;34m(cls, *args, **kwargs)\u001b[0m\n\u001b[0;32m     32\u001b[0m \u001b[39mtry\u001b[39;00m:\n\u001b[1;32m---> 33\u001b[0m     response \u001b[39m=\u001b[39m \u001b[39msuper\u001b[39;49m()\u001b[39m.\u001b[39;49mcreate(\u001b[39m*\u001b[39;49margs, \u001b[39m*\u001b[39;49m\u001b[39m*\u001b[39;49mkwargs)\n\u001b[0;32m     35\u001b[0m     \u001b[39m# If a user specifies base64, we'll just return the encoded string.\u001b[39;00m\n\u001b[0;32m     36\u001b[0m     \u001b[39m# This is only for the default case.\u001b[39;00m\n",
      "File \u001b[1;32m~\\AppData\\Roaming\\Python\\Python311\\site-packages\\openai\\api_resources\\abstract\\engine_api_resource.py:153\u001b[0m, in \u001b[0;36mEngineAPIResource.create\u001b[1;34m(cls, api_key, api_base, api_type, request_id, api_version, organization, **params)\u001b[0m\n\u001b[0;32m    138\u001b[0m (\n\u001b[0;32m    139\u001b[0m     deployment_id,\n\u001b[0;32m    140\u001b[0m     engine,\n\u001b[1;32m   (...)\u001b[0m\n\u001b[0;32m    150\u001b[0m     api_key, api_base, api_type, api_version, organization, \u001b[39m*\u001b[39m\u001b[39m*\u001b[39mparams\n\u001b[0;32m    151\u001b[0m )\n\u001b[1;32m--> 153\u001b[0m response, _, api_key \u001b[39m=\u001b[39m requestor\u001b[39m.\u001b[39;49mrequest(\n\u001b[0;32m    154\u001b[0m     \u001b[39m\"\u001b[39;49m\u001b[39mpost\u001b[39;49m\u001b[39m\"\u001b[39;49m,\n\u001b[0;32m    155\u001b[0m     url,\n\u001b[0;32m    156\u001b[0m     params\u001b[39m=\u001b[39;49mparams,\n\u001b[0;32m    157\u001b[0m     headers\u001b[39m=\u001b[39;49mheaders,\n\u001b[0;32m    158\u001b[0m     stream\u001b[39m=\u001b[39;49mstream,\n\u001b[0;32m    159\u001b[0m     request_id\u001b[39m=\u001b[39;49mrequest_id,\n\u001b[0;32m    160\u001b[0m     request_timeout\u001b[39m=\u001b[39;49mrequest_timeout,\n\u001b[0;32m    161\u001b[0m )\n\u001b[0;32m    163\u001b[0m \u001b[39mif\u001b[39;00m stream:\n\u001b[0;32m    164\u001b[0m     \u001b[39m# must be an iterator\u001b[39;00m\n",
      "File \u001b[1;32m~\\AppData\\Roaming\\Python\\Python311\\site-packages\\openai\\api_requestor.py:226\u001b[0m, in \u001b[0;36mAPIRequestor.request\u001b[1;34m(self, method, url, params, headers, files, stream, request_id, request_timeout)\u001b[0m\n\u001b[0;32m    216\u001b[0m result \u001b[39m=\u001b[39m \u001b[39mself\u001b[39m\u001b[39m.\u001b[39mrequest_raw(\n\u001b[0;32m    217\u001b[0m     method\u001b[39m.\u001b[39mlower(),\n\u001b[0;32m    218\u001b[0m     url,\n\u001b[1;32m   (...)\u001b[0m\n\u001b[0;32m    224\u001b[0m     request_timeout\u001b[39m=\u001b[39mrequest_timeout,\n\u001b[0;32m    225\u001b[0m )\n\u001b[1;32m--> 226\u001b[0m resp, got_stream \u001b[39m=\u001b[39m \u001b[39mself\u001b[39;49m\u001b[39m.\u001b[39;49m_interpret_response(result, stream)\n\u001b[0;32m    227\u001b[0m \u001b[39mreturn\u001b[39;00m resp, got_stream, \u001b[39mself\u001b[39m\u001b[39m.\u001b[39mapi_key\n",
      "File \u001b[1;32m~\\AppData\\Roaming\\Python\\Python311\\site-packages\\openai\\api_requestor.py:619\u001b[0m, in \u001b[0;36mAPIRequestor._interpret_response\u001b[1;34m(self, result, stream)\u001b[0m\n\u001b[0;32m    617\u001b[0m \u001b[39melse\u001b[39;00m:\n\u001b[0;32m    618\u001b[0m     \u001b[39mreturn\u001b[39;00m (\n\u001b[1;32m--> 619\u001b[0m         \u001b[39mself\u001b[39;49m\u001b[39m.\u001b[39;49m_interpret_response_line(\n\u001b[0;32m    620\u001b[0m             result\u001b[39m.\u001b[39;49mcontent\u001b[39m.\u001b[39;49mdecode(\u001b[39m\"\u001b[39;49m\u001b[39mutf-8\u001b[39;49m\u001b[39m\"\u001b[39;49m),\n\u001b[0;32m    621\u001b[0m             result\u001b[39m.\u001b[39;49mstatus_code,\n\u001b[0;32m    622\u001b[0m             result\u001b[39m.\u001b[39;49mheaders,\n\u001b[0;32m    623\u001b[0m             stream\u001b[39m=\u001b[39;49m\u001b[39mFalse\u001b[39;49;00m,\n\u001b[0;32m    624\u001b[0m         ),\n\u001b[0;32m    625\u001b[0m         \u001b[39mFalse\u001b[39;00m,\n\u001b[0;32m    626\u001b[0m     )\n",
      "File \u001b[1;32m~\\AppData\\Roaming\\Python\\Python311\\site-packages\\openai\\api_requestor.py:682\u001b[0m, in \u001b[0;36mAPIRequestor._interpret_response_line\u001b[1;34m(self, rbody, rcode, rheaders, stream)\u001b[0m\n\u001b[0;32m    681\u001b[0m \u001b[39mif\u001b[39;00m stream_error \u001b[39mor\u001b[39;00m \u001b[39mnot\u001b[39;00m \u001b[39m200\u001b[39m \u001b[39m<\u001b[39m\u001b[39m=\u001b[39m rcode \u001b[39m<\u001b[39m \u001b[39m300\u001b[39m:\n\u001b[1;32m--> 682\u001b[0m     \u001b[39mraise\u001b[39;00m \u001b[39mself\u001b[39m\u001b[39m.\u001b[39mhandle_error_response(\n\u001b[0;32m    683\u001b[0m         rbody, rcode, resp\u001b[39m.\u001b[39mdata, rheaders, stream_error\u001b[39m=\u001b[39mstream_error\n\u001b[0;32m    684\u001b[0m     )\n\u001b[0;32m    685\u001b[0m \u001b[39mreturn\u001b[39;00m resp\n",
      "\u001b[1;31mInvalidRequestError\u001b[0m: [''] is not valid under any of the given schemas - 'input'",
      "\nThe above exception was the direct cause of the following exception:\n",
      "\u001b[1;31mRetryError\u001b[0m                                Traceback (most recent call last)",
      "Cell \u001b[1;32mIn[7], line 1\u001b[0m\n\u001b[1;32m----> 1\u001b[0m ask_ai()\n",
      "Cell \u001b[1;32mIn[4], line 35\u001b[0m, in \u001b[0;36mask_ai\u001b[1;34m()\u001b[0m\n\u001b[0;32m     33\u001b[0m \u001b[39mwhile\u001b[39;00m \u001b[39mTrue\u001b[39;00m: \n\u001b[0;32m     34\u001b[0m     query \u001b[39m=\u001b[39m \u001b[39minput\u001b[39m(\u001b[39m\"\u001b[39m\u001b[39mWhat do you want to ask? \u001b[39m\u001b[39m\"\u001b[39m)\n\u001b[1;32m---> 35\u001b[0m     response \u001b[39m=\u001b[39m index\u001b[39m.\u001b[39;49mquery(query, response_mode\u001b[39m=\u001b[39;49m\u001b[39m\"\u001b[39;49m\u001b[39mcompact\u001b[39;49m\u001b[39m\"\u001b[39;49m)\n\u001b[0;32m     36\u001b[0m     display(Markdown(\u001b[39mf\u001b[39m\u001b[39m\"\u001b[39m\u001b[39mResponse: <b>\u001b[39m\u001b[39m{\u001b[39;00mresponse\u001b[39m.\u001b[39mresponse\u001b[39m}\u001b[39;00m\u001b[39m</b>\u001b[39m\u001b[39m\"\u001b[39m))\n",
      "File \u001b[1;32m~\\AppData\\Roaming\\Python\\Python311\\site-packages\\gpt_index\\indices\\base.py:424\u001b[0m, in \u001b[0;36mBaseGPTIndex.query\u001b[1;34m(self, query_str, mode, query_transform, use_async, **query_kwargs)\u001b[0m\n\u001b[0;32m    408\u001b[0m query_config \u001b[39m=\u001b[39m QueryConfig(\n\u001b[0;32m    409\u001b[0m     index_struct_type\u001b[39m=\u001b[39m\u001b[39mself\u001b[39m\u001b[39m.\u001b[39m_index_struct\u001b[39m.\u001b[39mget_type(),\n\u001b[0;32m    410\u001b[0m     query_mode\u001b[39m=\u001b[39mmode_enum,\n\u001b[0;32m    411\u001b[0m     query_kwargs\u001b[39m=\u001b[39mquery_kwargs,\n\u001b[0;32m    412\u001b[0m )\n\u001b[0;32m    413\u001b[0m query_runner \u001b[39m=\u001b[39m QueryRunner(\n\u001b[0;32m    414\u001b[0m     \u001b[39mself\u001b[39m\u001b[39m.\u001b[39m_llm_predictor,\n\u001b[0;32m    415\u001b[0m     \u001b[39mself\u001b[39m\u001b[39m.\u001b[39m_prompt_helper,\n\u001b[1;32m   (...)\u001b[0m\n\u001b[0;32m    422\u001b[0m     use_async\u001b[39m=\u001b[39muse_async,\n\u001b[0;32m    423\u001b[0m )\n\u001b[1;32m--> 424\u001b[0m \u001b[39mreturn\u001b[39;00m query_runner\u001b[39m.\u001b[39;49mquery(query_str, \u001b[39mself\u001b[39;49m\u001b[39m.\u001b[39;49m_index_struct)\n",
      "File \u001b[1;32m~\\AppData\\Roaming\\Python\\Python311\\site-packages\\gpt_index\\indices\\query\\query_runner.py:183\u001b[0m, in \u001b[0;36mQueryRunner.query\u001b[1;34m(self, query_str_or_bundle, index_struct)\u001b[0m\n\u001b[0;32m    180\u001b[0m \u001b[39melse\u001b[39;00m:\n\u001b[0;32m    181\u001b[0m     query_bundle \u001b[39m=\u001b[39m query_str_or_bundle\n\u001b[1;32m--> 183\u001b[0m \u001b[39mreturn\u001b[39;00m query_combiner\u001b[39m.\u001b[39;49mrun(query_obj, query_bundle)\n",
      "File \u001b[1;32m~\\AppData\\Roaming\\Python\\Python311\\site-packages\\gpt_index\\indices\\query\\query_combiner\\base.py:54\u001b[0m, in \u001b[0;36mSingleQueryCombiner.run\u001b[1;34m(self, query_obj, query_bundle)\u001b[0m\n\u001b[0;32m     48\u001b[0m transform_extra_info \u001b[39m=\u001b[39m {\n\u001b[0;32m     49\u001b[0m     \u001b[39m\"\u001b[39m\u001b[39mindex_struct\u001b[39m\u001b[39m\"\u001b[39m: \u001b[39mself\u001b[39m\u001b[39m.\u001b[39m_index_struct,\n\u001b[0;32m     50\u001b[0m }\n\u001b[0;32m     51\u001b[0m updated_query_bundle \u001b[39m=\u001b[39m \u001b[39mself\u001b[39m\u001b[39m.\u001b[39m_query_transform(\n\u001b[0;32m     52\u001b[0m     query_bundle, extra_info\u001b[39m=\u001b[39mtransform_extra_info\n\u001b[0;32m     53\u001b[0m )\n\u001b[1;32m---> 54\u001b[0m \u001b[39mreturn\u001b[39;00m query_obj\u001b[39m.\u001b[39;49mquery(updated_query_bundle)\n",
      "File \u001b[1;32m~\\AppData\\Roaming\\Python\\Python311\\site-packages\\gpt_index\\token_counter\\token_counter.py:86\u001b[0m, in \u001b[0;36mllm_token_counter.<locals>.wrap.<locals>.wrapped_llm_predict\u001b[1;34m(_self, *args, **kwargs)\u001b[0m\n\u001b[0;32m     84\u001b[0m \u001b[39mdef\u001b[39;00m \u001b[39mwrapped_llm_predict\u001b[39m(_self: Any, \u001b[39m*\u001b[39margs: Any, \u001b[39m*\u001b[39m\u001b[39m*\u001b[39mkwargs: Any) \u001b[39m-\u001b[39m\u001b[39m>\u001b[39m Any:\n\u001b[0;32m     85\u001b[0m     \u001b[39mwith\u001b[39;00m wrapper_logic(_self):\n\u001b[1;32m---> 86\u001b[0m         f_return_val \u001b[39m=\u001b[39m f(_self, \u001b[39m*\u001b[39;49margs, \u001b[39m*\u001b[39;49m\u001b[39m*\u001b[39;49mkwargs)\n\u001b[0;32m     88\u001b[0m     \u001b[39mreturn\u001b[39;00m f_return_val\n",
      "File \u001b[1;32m~\\AppData\\Roaming\\Python\\Python311\\site-packages\\gpt_index\\indices\\query\\base.py:402\u001b[0m, in \u001b[0;36mBaseGPTIndexQuery.query\u001b[1;34m(self, query_bundle)\u001b[0m\n\u001b[0;32m    399\u001b[0m \u001b[39m@llm_token_counter\u001b[39m(\u001b[39m\"\u001b[39m\u001b[39mquery\u001b[39m\u001b[39m\"\u001b[39m)\n\u001b[0;32m    400\u001b[0m \u001b[39mdef\u001b[39;00m \u001b[39mquery\u001b[39m(\u001b[39mself\u001b[39m, query_bundle: QueryBundle) \u001b[39m-\u001b[39m\u001b[39m>\u001b[39m RESPONSE_TYPE:\n\u001b[0;32m    401\u001b[0m \u001b[39m    \u001b[39m\u001b[39m\"\"\"Answer a query.\"\"\"\u001b[39;00m\n\u001b[1;32m--> 402\u001b[0m     response \u001b[39m=\u001b[39m \u001b[39mself\u001b[39;49m\u001b[39m.\u001b[39;49m_query(query_bundle)\n\u001b[0;32m    403\u001b[0m     \u001b[39m# if include_summary is True, then include summary text in answer\u001b[39;00m\n\u001b[0;32m    404\u001b[0m     \u001b[39m# summary text is set through `set_text` on the underlying index.\u001b[39;00m\n\u001b[0;32m    405\u001b[0m     \u001b[39m# TODO: refactor response builder to be in the __init__\u001b[39;00m\n\u001b[0;32m    406\u001b[0m     \u001b[39mif\u001b[39;00m \u001b[39mself\u001b[39m\u001b[39m.\u001b[39m_response_mode \u001b[39m!=\u001b[39m ResponseMode\u001b[39m.\u001b[39mNO_TEXT \u001b[39mand\u001b[39;00m \u001b[39mself\u001b[39m\u001b[39m.\u001b[39m_include_summary:\n",
      "File \u001b[1;32m~\\AppData\\Roaming\\Python\\Python311\\site-packages\\gpt_index\\indices\\query\\base.py:372\u001b[0m, in \u001b[0;36mBaseGPTIndexQuery._query\u001b[1;34m(self, query_bundle)\u001b[0m\n\u001b[0;32m    370\u001b[0m \u001b[39m\u001b[39m\u001b[39m\"\"\"Answer a query.\"\"\"\u001b[39;00m\n\u001b[0;32m    371\u001b[0m \u001b[39m# TODO: remove _query and just use query\u001b[39;00m\n\u001b[1;32m--> 372\u001b[0m tuples \u001b[39m=\u001b[39m \u001b[39mself\u001b[39;49m\u001b[39m.\u001b[39;49mget_nodes_and_similarities_for_response(query_bundle)\n\u001b[0;32m    374\u001b[0m \u001b[39m# prepare response builder\u001b[39;00m\n\u001b[0;32m    375\u001b[0m \u001b[39mself\u001b[39m\u001b[39m.\u001b[39m_prepare_response_builder(\u001b[39mself\u001b[39m\u001b[39m.\u001b[39mresponse_builder, query_bundle, tuples)\n",
      "File \u001b[1;32m~\\AppData\\Roaming\\Python\\Python311\\site-packages\\gpt_index\\indices\\query\\base.py:296\u001b[0m, in \u001b[0;36mBaseGPTIndexQuery.get_nodes_and_similarities_for_response\u001b[1;34m(self, query_bundle)\u001b[0m\n\u001b[0;32m    289\u001b[0m \u001b[39m\u001b[39m\u001b[39m\"\"\"Get list of tuples of node and similarity for response.\u001b[39;00m\n\u001b[0;32m    290\u001b[0m \n\u001b[0;32m    291\u001b[0m \u001b[39mFirst part of the tuple is the node.\u001b[39;00m\n\u001b[0;32m    292\u001b[0m \u001b[39mSecond part of tuple is the distance from query to the node.\u001b[39;00m\n\u001b[0;32m    293\u001b[0m \u001b[39mIf not applicable, it's None.\u001b[39;00m\n\u001b[0;32m    294\u001b[0m \u001b[39m\"\"\"\u001b[39;00m\n\u001b[0;32m    295\u001b[0m similarity_tracker \u001b[39m=\u001b[39m SimilarityTracker()\n\u001b[1;32m--> 296\u001b[0m nodes \u001b[39m=\u001b[39m \u001b[39mself\u001b[39;49m\u001b[39m.\u001b[39;49m_get_nodes_for_response(\n\u001b[0;32m    297\u001b[0m     query_bundle, similarity_tracker\u001b[39m=\u001b[39;49msimilarity_tracker\n\u001b[0;32m    298\u001b[0m )\n\u001b[0;32m    300\u001b[0m postprocess_info \u001b[39m=\u001b[39m {\u001b[39m\"\u001b[39m\u001b[39msimilarity_tracker\u001b[39m\u001b[39m\"\u001b[39m: similarity_tracker}\n\u001b[0;32m    301\u001b[0m \u001b[39mfor\u001b[39;00m node_processor \u001b[39min\u001b[39;00m \u001b[39mself\u001b[39m\u001b[39m.\u001b[39mnode_preprocessors:\n",
      "File \u001b[1;32m~\\AppData\\Roaming\\Python\\Python311\\site-packages\\gpt_index\\indices\\query\\vector_store\\base.py:46\u001b[0m, in \u001b[0;36mGPTVectorStoreIndexQuery._get_nodes_for_response\u001b[1;34m(self, query_bundle, similarity_tracker)\u001b[0m\n\u001b[0;32m     40\u001b[0m \u001b[39mdef\u001b[39;00m \u001b[39m_get_nodes_for_response\u001b[39m(\n\u001b[0;32m     41\u001b[0m     \u001b[39mself\u001b[39m,\n\u001b[0;32m     42\u001b[0m     query_bundle: QueryBundle,\n\u001b[0;32m     43\u001b[0m     similarity_tracker: Optional[SimilarityTracker] \u001b[39m=\u001b[39m \u001b[39mNone\u001b[39;00m,\n\u001b[0;32m     44\u001b[0m ) \u001b[39m-\u001b[39m\u001b[39m>\u001b[39m List[Node]:\n\u001b[0;32m     45\u001b[0m     \u001b[39mif\u001b[39;00m query_bundle\u001b[39m.\u001b[39membedding \u001b[39mis\u001b[39;00m \u001b[39mNone\u001b[39;00m:\n\u001b[1;32m---> 46\u001b[0m         query_bundle\u001b[39m.\u001b[39membedding \u001b[39m=\u001b[39m \u001b[39mself\u001b[39;49m\u001b[39m.\u001b[39;49m_embed_model\u001b[39m.\u001b[39;49mget_agg_embedding_from_queries(\n\u001b[0;32m     47\u001b[0m             query_bundle\u001b[39m.\u001b[39;49membedding_strs\n\u001b[0;32m     48\u001b[0m         )\n\u001b[0;32m     50\u001b[0m     query_result \u001b[39m=\u001b[39m \u001b[39mself\u001b[39m\u001b[39m.\u001b[39m_vector_store\u001b[39m.\u001b[39mquery(\n\u001b[0;32m     51\u001b[0m         query_bundle\u001b[39m.\u001b[39membedding, \u001b[39mself\u001b[39m\u001b[39m.\u001b[39m_similarity_top_k, \u001b[39mself\u001b[39m\u001b[39m.\u001b[39m_doc_ids\n\u001b[0;32m     52\u001b[0m     )\n\u001b[0;32m     54\u001b[0m     \u001b[39mif\u001b[39;00m query_result\u001b[39m.\u001b[39mnodes \u001b[39mis\u001b[39;00m \u001b[39mNone\u001b[39;00m:\n",
      "File \u001b[1;32m~\\AppData\\Roaming\\Python\\Python311\\site-packages\\gpt_index\\embeddings\\base.py:79\u001b[0m, in \u001b[0;36mBaseEmbedding.get_agg_embedding_from_queries\u001b[1;34m(self, queries, agg_fn)\u001b[0m\n\u001b[0;32m     73\u001b[0m \u001b[39mdef\u001b[39;00m \u001b[39mget_agg_embedding_from_queries\u001b[39m(\n\u001b[0;32m     74\u001b[0m     \u001b[39mself\u001b[39m,\n\u001b[0;32m     75\u001b[0m     queries: List[\u001b[39mstr\u001b[39m],\n\u001b[0;32m     76\u001b[0m     agg_fn: Optional[Callable[\u001b[39m.\u001b[39m\u001b[39m.\u001b[39m\u001b[39m.\u001b[39m, List[\u001b[39mfloat\u001b[39m]]] \u001b[39m=\u001b[39m \u001b[39mNone\u001b[39;00m,\n\u001b[0;32m     77\u001b[0m ) \u001b[39m-\u001b[39m\u001b[39m>\u001b[39m List[\u001b[39mfloat\u001b[39m]:\n\u001b[0;32m     78\u001b[0m \u001b[39m    \u001b[39m\u001b[39m\"\"\"Get aggregated embedding from multiple queries.\"\"\"\u001b[39;00m\n\u001b[1;32m---> 79\u001b[0m     query_embeddings \u001b[39m=\u001b[39m [\u001b[39mself\u001b[39;49m\u001b[39m.\u001b[39;49mget_query_embedding(query) \u001b[39mfor\u001b[39;49;00m query \u001b[39min\u001b[39;49;00m queries]\n\u001b[0;32m     80\u001b[0m     agg_fn \u001b[39m=\u001b[39m agg_fn \u001b[39mor\u001b[39;00m mean_agg\n\u001b[0;32m     81\u001b[0m     \u001b[39mreturn\u001b[39;00m agg_fn(query_embeddings)\n",
      "File \u001b[1;32m~\\AppData\\Roaming\\Python\\Python311\\site-packages\\gpt_index\\embeddings\\base.py:79\u001b[0m, in \u001b[0;36m<listcomp>\u001b[1;34m(.0)\u001b[0m\n\u001b[0;32m     73\u001b[0m \u001b[39mdef\u001b[39;00m \u001b[39mget_agg_embedding_from_queries\u001b[39m(\n\u001b[0;32m     74\u001b[0m     \u001b[39mself\u001b[39m,\n\u001b[0;32m     75\u001b[0m     queries: List[\u001b[39mstr\u001b[39m],\n\u001b[0;32m     76\u001b[0m     agg_fn: Optional[Callable[\u001b[39m.\u001b[39m\u001b[39m.\u001b[39m\u001b[39m.\u001b[39m, List[\u001b[39mfloat\u001b[39m]]] \u001b[39m=\u001b[39m \u001b[39mNone\u001b[39;00m,\n\u001b[0;32m     77\u001b[0m ) \u001b[39m-\u001b[39m\u001b[39m>\u001b[39m List[\u001b[39mfloat\u001b[39m]:\n\u001b[0;32m     78\u001b[0m \u001b[39m    \u001b[39m\u001b[39m\"\"\"Get aggregated embedding from multiple queries.\"\"\"\u001b[39;00m\n\u001b[1;32m---> 79\u001b[0m     query_embeddings \u001b[39m=\u001b[39m [\u001b[39mself\u001b[39;49m\u001b[39m.\u001b[39;49mget_query_embedding(query) \u001b[39mfor\u001b[39;00m query \u001b[39min\u001b[39;00m queries]\n\u001b[0;32m     80\u001b[0m     agg_fn \u001b[39m=\u001b[39m agg_fn \u001b[39mor\u001b[39;00m mean_agg\n\u001b[0;32m     81\u001b[0m     \u001b[39mreturn\u001b[39;00m agg_fn(query_embeddings)\n",
      "File \u001b[1;32m~\\AppData\\Roaming\\Python\\Python311\\site-packages\\gpt_index\\embeddings\\base.py:68\u001b[0m, in \u001b[0;36mBaseEmbedding.get_query_embedding\u001b[1;34m(self, query)\u001b[0m\n\u001b[0;32m     66\u001b[0m \u001b[39mdef\u001b[39;00m \u001b[39mget_query_embedding\u001b[39m(\u001b[39mself\u001b[39m, query: \u001b[39mstr\u001b[39m) \u001b[39m-\u001b[39m\u001b[39m>\u001b[39m List[\u001b[39mfloat\u001b[39m]:\n\u001b[0;32m     67\u001b[0m \u001b[39m    \u001b[39m\u001b[39m\"\"\"Get query embedding.\"\"\"\u001b[39;00m\n\u001b[1;32m---> 68\u001b[0m     query_embedding \u001b[39m=\u001b[39m \u001b[39mself\u001b[39;49m\u001b[39m.\u001b[39;49m_get_query_embedding(query)\n\u001b[0;32m     69\u001b[0m     query_tokens_count \u001b[39m=\u001b[39m \u001b[39mlen\u001b[39m(\u001b[39mself\u001b[39m\u001b[39m.\u001b[39m_tokenizer(query))\n\u001b[0;32m     70\u001b[0m     \u001b[39mself\u001b[39m\u001b[39m.\u001b[39m_total_tokens_used \u001b[39m+\u001b[39m\u001b[39m=\u001b[39m query_tokens_count\n",
      "File \u001b[1;32m~\\AppData\\Roaming\\Python\\Python311\\site-packages\\gpt_index\\embeddings\\openai.py:222\u001b[0m, in \u001b[0;36mOpenAIEmbedding._get_query_embedding\u001b[1;34m(self, query)\u001b[0m\n\u001b[0;32m    220\u001b[0m         \u001b[39mraise\u001b[39;00m \u001b[39mValueError\u001b[39;00m(\u001b[39mf\u001b[39m\u001b[39m\"\u001b[39m\u001b[39mInvalid mode, model combination: \u001b[39m\u001b[39m{\u001b[39;00mkey\u001b[39m}\u001b[39;00m\u001b[39m\"\u001b[39m)\n\u001b[0;32m    221\u001b[0m     engine \u001b[39m=\u001b[39m _QUERY_MODE_MODEL_DICT[key]\n\u001b[1;32m--> 222\u001b[0m \u001b[39mreturn\u001b[39;00m get_embedding(query, engine\u001b[39m=\u001b[39;49mengine)\n",
      "File \u001b[1;32m~\\AppData\\Roaming\\Python\\Python311\\site-packages\\tenacity\\__init__.py:289\u001b[0m, in \u001b[0;36mBaseRetrying.wraps.<locals>.wrapped_f\u001b[1;34m(*args, **kw)\u001b[0m\n\u001b[0;32m    287\u001b[0m \u001b[39m@functools\u001b[39m\u001b[39m.\u001b[39mwraps(f)\n\u001b[0;32m    288\u001b[0m \u001b[39mdef\u001b[39;00m \u001b[39mwrapped_f\u001b[39m(\u001b[39m*\u001b[39margs: t\u001b[39m.\u001b[39mAny, \u001b[39m*\u001b[39m\u001b[39m*\u001b[39mkw: t\u001b[39m.\u001b[39mAny) \u001b[39m-\u001b[39m\u001b[39m>\u001b[39m t\u001b[39m.\u001b[39mAny:\n\u001b[1;32m--> 289\u001b[0m     \u001b[39mreturn\u001b[39;00m \u001b[39mself\u001b[39;49m(f, \u001b[39m*\u001b[39;49margs, \u001b[39m*\u001b[39;49m\u001b[39m*\u001b[39;49mkw)\n",
      "File \u001b[1;32m~\\AppData\\Roaming\\Python\\Python311\\site-packages\\tenacity\\__init__.py:379\u001b[0m, in \u001b[0;36mRetrying.__call__\u001b[1;34m(self, fn, *args, **kwargs)\u001b[0m\n\u001b[0;32m    377\u001b[0m retry_state \u001b[39m=\u001b[39m RetryCallState(retry_object\u001b[39m=\u001b[39m\u001b[39mself\u001b[39m, fn\u001b[39m=\u001b[39mfn, args\u001b[39m=\u001b[39margs, kwargs\u001b[39m=\u001b[39mkwargs)\n\u001b[0;32m    378\u001b[0m \u001b[39mwhile\u001b[39;00m \u001b[39mTrue\u001b[39;00m:\n\u001b[1;32m--> 379\u001b[0m     do \u001b[39m=\u001b[39m \u001b[39mself\u001b[39;49m\u001b[39m.\u001b[39;49miter(retry_state\u001b[39m=\u001b[39;49mretry_state)\n\u001b[0;32m    380\u001b[0m     \u001b[39mif\u001b[39;00m \u001b[39misinstance\u001b[39m(do, DoAttempt):\n\u001b[0;32m    381\u001b[0m         \u001b[39mtry\u001b[39;00m:\n",
      "File \u001b[1;32m~\\AppData\\Roaming\\Python\\Python311\\site-packages\\tenacity\\__init__.py:326\u001b[0m, in \u001b[0;36mBaseRetrying.iter\u001b[1;34m(self, retry_state)\u001b[0m\n\u001b[0;32m    324\u001b[0m     \u001b[39mif\u001b[39;00m \u001b[39mself\u001b[39m\u001b[39m.\u001b[39mreraise:\n\u001b[0;32m    325\u001b[0m         \u001b[39mraise\u001b[39;00m retry_exc\u001b[39m.\u001b[39mreraise()\n\u001b[1;32m--> 326\u001b[0m     \u001b[39mraise\u001b[39;00m retry_exc \u001b[39mfrom\u001b[39;00m \u001b[39mfut\u001b[39;00m\u001b[39m.\u001b[39;00m\u001b[39mexception\u001b[39;00m()\n\u001b[0;32m    328\u001b[0m \u001b[39mif\u001b[39;00m \u001b[39mself\u001b[39m\u001b[39m.\u001b[39mwait:\n\u001b[0;32m    329\u001b[0m     sleep \u001b[39m=\u001b[39m \u001b[39mself\u001b[39m\u001b[39m.\u001b[39mwait(retry_state)\n",
      "\u001b[1;31mRetryError\u001b[0m: RetryError[<Future at 0x25ee7df43d0 state=finished raised InvalidRequestError>]"
     ]
    }
   ],
   "source": [
    "ask_ai()"
   ]
  }
 ],
 "metadata": {
  "kernelspec": {
   "display_name": "Python 3",
   "language": "python",
   "name": "python3"
  },
  "language_info": {
   "codemirror_mode": {
    "name": "ipython",
    "version": 3
   },
   "file_extension": ".py",
   "mimetype": "text/x-python",
   "name": "python",
   "nbconvert_exporter": "python",
   "pygments_lexer": "ipython3",
   "version": "3.11.2"
  },
  "orig_nbformat": 4,
  "vscode": {
   "interpreter": {
    "hash": "5238573367df39f7286bb46f9ff5f08f63a01a80960060ce41e3c79b190280fa"
   }
  }
 },
 "nbformat": 4,
 "nbformat_minor": 2
}
